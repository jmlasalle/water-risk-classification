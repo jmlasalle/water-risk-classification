{
 "cells": [
  {
   "cell_type": "markdown",
   "metadata": {},
   "source": [
    "# Prepare clusters for web visualization"
   ]
  },
  {
   "cell_type": "code",
   "execution_count": 4,
   "metadata": {},
   "outputs": [],
   "source": [
    "import numpy as np\n",
    "import pandas as pd\n",
    "import geopandas as gpd\n",
    "from shapely.geometry import Point"
   ]
  },
  {
   "cell_type": "code",
   "execution_count": 13,
   "metadata": {},
   "outputs": [],
   "source": [
    "path_data = \"./data/data_with_labels_and_DBScan_22clusters.geojson\"\n",
    "\n",
    "data = gpd.read_file(path_data)"
   ]
  },
  {
   "cell_type": "code",
   "execution_count": 14,
   "metadata": {},
   "outputs": [
    {
     "data": {
      "text/plain": [
       "(geopandas.geodataframe.GeoDataFrame,\n",
       " {'init': 'epsg:6933'},\n",
       " Index(['string_id', 'bws_raw', 'bwd_raw', 'iav_raw', 'sev_raw', 'gtd_raw',\n",
       "        'rfr_raw', 'cfr_raw', 'drr_raw', 'ucw_raw', 'udw_raw', 'usa_raw',\n",
       "        'mean_infant_mort', 'mean_light', 'pop_density', 'PR_labels',\n",
       "        'deplete_labels', 'floodrought_labels', 'DBScan_labels', 'geometry'],\n",
       "       dtype='object'))"
      ]
     },
     "execution_count": 14,
     "metadata": {},
     "output_type": "execute_result"
    }
   ],
   "source": [
    "type(data), data.crs, data.columns"
   ]
  },
  {
   "cell_type": "code",
   "execution_count": 15,
   "metadata": {},
   "outputs": [],
   "source": [
    "data = data.rename({'bws_raw': 'Baseline Water Stress',\n",
    "                            'bwd_raw': 'Baseline Water Withdrawals',\n",
    "                            'iav_raw': 'Interannual Variation',\n",
    "                            'sev_raw': 'Seasonal Variation',\n",
    "                            'gtd_raw': 'Groundwater Table Decline',\n",
    "                            'rfr_raw': 'Riverine Flood Risk',\n",
    "                            'cfr_raw': 'Coastal Flood Risk',\n",
    "                            'drr_raw': 'Drought Risk',\n",
    "                            'ucw_raw': 'Untreated Connected Wastewater',\n",
    "                            'udw_raw': 'Unimproved Drinking Water',\n",
    "                            'usa_raw': 'Unimproved Sanitation',\n",
    "                            'mean_infant_mort': 'Infant Mortality Rate',\n",
    "                            'mean_light': 'Nighttime Light',\n",
    "                            'pop_density': 'Population Density',\n",
    "                            'DBScan_labels': 'Cluster'}, axis=1)\n",
    "data = data.loc[data['geometry'].is_valid]"
   ]
  },
  {
   "cell_type": "code",
   "execution_count": 16,
   "metadata": {},
   "outputs": [],
   "source": [
    "data_grouped = data.drop(['string_id','PR_labels','deplete_labels','floodrought_labels'], axis=1\n",
    "            ).groupby('Cluster').mean().reset_index()\n",
    "\n",
    "group_count = data[['Cluster']].copy()\n",
    "group_count['int'] = 1\n",
    "group_count = group_count.groupby('Cluster').count().reset_index()\n",
    "group_count[\"Rank\"] = group_count[\"int\"].rank() \n",
    "\n",
    "data_grouped['Count'] = group_count[\"int\"]\n",
    "data_grouped['Rank'] = group_count[\"Rank\"]"
   ]
  },
  {
   "cell_type": "code",
   "execution_count": 19,
   "metadata": {},
   "outputs": [
    {
     "data": {
      "text/plain": [
       "(pandas.core.frame.DataFrame,\n",
       " Index(['Cluster', 'Baseline Water Stress', 'Baseline Water Withdrawals',\n",
       "        'Interannual Variation', 'Seasonal Variation',\n",
       "        'Groundwater Table Decline', 'Riverine Flood Risk',\n",
       "        'Coastal Flood Risk', 'Drought Risk', 'Untreated Connected Wastewater',\n",
       "        'Unimproved Drinking Water', 'Unimproved Sanitation',\n",
       "        'Infant Mortality Rate', 'Nighttime Light', 'Population Density',\n",
       "        'Count', 'Rank'],\n",
       "       dtype='object'))"
      ]
     },
     "execution_count": 19,
     "metadata": {},
     "output_type": "execute_result"
    }
   ],
   "source": [
    "type(data_grouped), data_grouped.columns"
   ]
  },
  {
   "cell_type": "code",
   "execution_count": 20,
   "metadata": {},
   "outputs": [],
   "source": [
    "data_grouped.to_csv(\"./app_data/dashboard_data_grouped.csv\")"
   ]
  },
  {
   "cell_type": "markdown",
   "metadata": {},
   "source": [
    "# Dissolved Polygons"
   ]
  },
  {
   "cell_type": "code",
   "execution_count": 86,
   "metadata": {},
   "outputs": [],
   "source": [
    "data_dissolved = data.loc[data['geometry'].is_valid]\n",
    "data_dissolved['Cluster_label'] = data_dissolved['Cluster']"
   ]
  },
  {
   "cell_type": "code",
   "execution_count": 87,
   "metadata": {},
   "outputs": [
    {
     "data": {
      "text/plain": [
       "geopandas.geodataframe.GeoDataFrame"
      ]
     },
     "execution_count": 87,
     "metadata": {},
     "output_type": "execute_result"
    }
   ],
   "source": [
    "data_dissolved = data_dissolved.dissolve(by='Cluster', aggfunc='mean')\n",
    "type(data_dissolved)"
   ]
  },
  {
   "cell_type": "code",
   "execution_count": 88,
   "metadata": {},
   "outputs": [],
   "source": [
    "# data_dissolved1.head()"
   ]
  },
  {
   "cell_type": "code",
   "execution_count": 89,
   "metadata": {},
   "outputs": [],
   "source": [
    "data_dissolved['geometry'] = data_dissolved.simplify(tolerance=10000, preserve_topology=True)\n",
    "# type(data_dissolved), data_dissolved.is_valid"
   ]
  },
  {
   "cell_type": "code",
   "execution_count": 90,
   "metadata": {},
   "outputs": [
    {
     "data": {
      "text/plain": [
       "(23, 19)"
      ]
     },
     "execution_count": 90,
     "metadata": {},
     "output_type": "execute_result"
    }
   ],
   "source": [
    "data_dissolved.shape"
   ]
  },
  {
   "cell_type": "code",
   "execution_count": 91,
   "metadata": {},
   "outputs": [],
   "source": [
    "data_dissolved = data_dissolved.to_crs({'init':'epsg:3857'})\n",
    "# type(data_dissolved), data_dissolved.is_valid"
   ]
  },
  {
   "cell_type": "code",
   "execution_count": 92,
   "metadata": {},
   "outputs": [],
   "source": [
    "data_dissolved['geometry'] = data_dissolved.buffer(0)\n",
    "# type(data_dissolved2), data_dissolved2.is_valid"
   ]
  },
  {
   "cell_type": "code",
   "execution_count": 93,
   "metadata": {},
   "outputs": [],
   "source": [
    "# data_dissolved2"
   ]
  },
  {
   "cell_type": "code",
   "execution_count": 94,
   "metadata": {},
   "outputs": [],
   "source": [
    "data_dissolved.to_file(\"./app_data/clusters.shp\")"
   ]
  }
 ],
 "metadata": {
  "kernelspec": {
   "display_name": "Python 3",
   "language": "python",
   "name": "python3"
  },
  "language_info": {
   "codemirror_mode": {
    "name": "ipython",
    "version": 3
   },
   "file_extension": ".py",
   "mimetype": "text/x-python",
   "name": "python",
   "nbconvert_exporter": "python",
   "pygments_lexer": "ipython3",
   "version": "3.7.5"
  }
 },
 "nbformat": 4,
 "nbformat_minor": 2
}
