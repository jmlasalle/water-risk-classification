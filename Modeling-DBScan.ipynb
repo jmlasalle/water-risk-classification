{
 "cells": [
  {
   "cell_type": "markdown",
   "metadata": {},
   "source": [
    "# Modeling"
   ]
  },
  {
   "cell_type": "code",
   "execution_count": 90,
   "metadata": {},
   "outputs": [],
   "source": [
    "# load libraries\n",
    "\n",
    "import numpy as np\n",
    "import pandas as pd\n",
    "import geopandas as gpd\n",
    "\n",
    "from matplotlib import pyplot as plt\n",
    "%matplotlib inline\n",
    "import altair as alt\n",
    "\n",
    "from sklearn.cluster import KMeans, dbscan \n",
    "from sklearn.preprocessing import StandardScaler\n",
    "from sklearn.experimental import enable_iterative_imputer\n",
    "from sklearn.impute import IterativeImputer"
   ]
  },
  {
   "cell_type": "code",
   "execution_count": 2,
   "metadata": {},
   "outputs": [],
   "source": [
    "plt.rcParams['figure.figsize'] = (10,6)\n",
    "\n",
    "alt.renderers.enable(\"notebook\")\n",
    "np.random.seed(42)"
   ]
  },
  {
   "cell_type": "code",
   "execution_count": 91,
   "metadata": {
    "scrolled": true
   },
   "outputs": [],
   "source": [
    "path_data = './data/data_101219.geojson'\n",
    "\n",
    "data = gpd.read_file(path_data)"
   ]
  },
  {
   "cell_type": "markdown",
   "metadata": {},
   "source": [
    "### Aqueduct attributes for clustering\n",
    "\n",
    "Baseline water stress: bws_raw  \n",
    "Baseline water depletion: bwd_raw  \n",
    "Interannual variability: iav_raw  \n",
    "Seasonal variability: sev_raw  \n",
    "Groundwater table decline: gtd_raw  \n",
    "Riverine flood risk: rfr_raw  \n",
    "Coastal flood risk: cfr_raw  \n",
    "Drought risk: drr_raw  \n",
    "Untreated connected wastewater: ucw_raw  \n",
    "Unimproved/no drinking water: udw_raw  \n",
    "Unimproved/no sanitation: usa_raw  "
   ]
  },
  {
   "cell_type": "code",
   "execution_count": 92,
   "metadata": {},
   "outputs": [
    {
     "data": {
      "text/html": [
       "<div>\n",
       "<style scoped>\n",
       "    .dataframe tbody tr th:only-of-type {\n",
       "        vertical-align: middle;\n",
       "    }\n",
       "\n",
       "    .dataframe tbody tr th {\n",
       "        vertical-align: top;\n",
       "    }\n",
       "\n",
       "    .dataframe thead th {\n",
       "        text-align: right;\n",
       "    }\n",
       "</style>\n",
       "<table border=\"1\" class=\"dataframe\">\n",
       "  <thead>\n",
       "    <tr style=\"text-align: right;\">\n",
       "      <th></th>\n",
       "      <th>string_id</th>\n",
       "      <th>bws_raw</th>\n",
       "      <th>bwd_raw</th>\n",
       "      <th>iav_raw</th>\n",
       "      <th>sev_raw</th>\n",
       "      <th>gtd_raw</th>\n",
       "      <th>rfr_raw</th>\n",
       "      <th>cfr_raw</th>\n",
       "      <th>drr_raw</th>\n",
       "      <th>ucw_raw</th>\n",
       "      <th>udw_raw</th>\n",
       "      <th>usa_raw</th>\n",
       "      <th>mean_infant_mort</th>\n",
       "      <th>mean_light</th>\n",
       "      <th>pop_density</th>\n",
       "      <th>geometry</th>\n",
       "    </tr>\n",
       "  </thead>\n",
       "  <tbody>\n",
       "    <tr>\n",
       "      <th>0</th>\n",
       "      <td>111011-EGY.11_1-3365</td>\n",
       "      <td>2.318042</td>\n",
       "      <td>0.987061</td>\n",
       "      <td>1.035414</td>\n",
       "      <td>0.962396</td>\n",
       "      <td>0.843958</td>\n",
       "      <td>0.074383</td>\n",
       "      <td>0.0</td>\n",
       "      <td>NaN</td>\n",
       "      <td>0.6139</td>\n",
       "      <td>0.01057</td>\n",
       "      <td>0.023176</td>\n",
       "      <td>34.693151</td>\n",
       "      <td>2.522154</td>\n",
       "      <td>0.0</td>\n",
       "      <td>(POLYGON ((31.90590570688292 29.85788702426048...</td>\n",
       "    </tr>\n",
       "  </tbody>\n",
       "</table>\n",
       "</div>"
      ],
      "text/plain": [
       "              string_id   bws_raw   bwd_raw   iav_raw   sev_raw   gtd_raw  \\\n",
       "0  111011-EGY.11_1-3365  2.318042  0.987061  1.035414  0.962396  0.843958   \n",
       "\n",
       "    rfr_raw  cfr_raw  drr_raw  ucw_raw  udw_raw   usa_raw  mean_infant_mort  \\\n",
       "0  0.074383      0.0      NaN   0.6139  0.01057  0.023176         34.693151   \n",
       "\n",
       "   mean_light  pop_density                                           geometry  \n",
       "0    2.522154          0.0  (POLYGON ((31.90590570688292 29.85788702426048...  "
      ]
     },
     "execution_count": 92,
     "metadata": {},
     "output_type": "execute_result"
    }
   ],
   "source": [
    "pd.set_option('display.max_columns', None)\n",
    "data.head(1)"
   ]
  },
  {
   "cell_type": "markdown",
   "metadata": {},
   "source": [
    "## Convert polygons to points"
   ]
  },
  {
   "cell_type": "markdown",
   "metadata": {},
   "source": [
    "#### We are goint to use DBScan to make our clusters. First, we select only valid geometries and convert the CRS to 6933, to have the coordinates in meters. Then we convert the geometries into points and extract separately the 'x' and 'y' coordinates."
   ]
  },
  {
   "cell_type": "code",
   "execution_count": 93,
   "metadata": {},
   "outputs": [
    {
     "data": {
      "text/plain": [
       "(68506, 16)"
      ]
     },
     "execution_count": 93,
     "metadata": {},
     "output_type": "execute_result"
    }
   ],
   "source": [
    "data.shape"
   ]
  },
  {
   "cell_type": "code",
   "execution_count": 94,
   "metadata": {},
   "outputs": [
    {
     "data": {
      "text/plain": [
       "'MultiPolygon'"
      ]
     },
     "execution_count": 94,
     "metadata": {},
     "output_type": "execute_result"
    }
   ],
   "source": [
    "data.geometry.type[0]"
   ]
  },
  {
   "cell_type": "code",
   "execution_count": 95,
   "metadata": {},
   "outputs": [
    {
     "data": {
      "text/plain": [
       "(68497, 16)"
      ]
     },
     "execution_count": 95,
     "metadata": {},
     "output_type": "execute_result"
    }
   ],
   "source": [
    "data = data[data.geometry.type == 'MultiPolygon']\n",
    "data.shape"
   ]
  },
  {
   "cell_type": "code",
   "execution_count": 65,
   "metadata": {},
   "outputs": [],
   "source": [
    "# data = data.to_crs({'init': 'epsg:6933'})"
   ]
  },
  {
   "cell_type": "code",
   "execution_count": 96,
   "metadata": {
    "scrolled": true
   },
   "outputs": [],
   "source": [
    "data_point = data.copy()\n",
    "data_point.geometry = data_point['geometry'].centroid"
   ]
  },
  {
   "cell_type": "code",
   "execution_count": 97,
   "metadata": {},
   "outputs": [
    {
     "data": {
      "text/html": [
       "<div>\n",
       "<style scoped>\n",
       "    .dataframe tbody tr th:only-of-type {\n",
       "        vertical-align: middle;\n",
       "    }\n",
       "\n",
       "    .dataframe tbody tr th {\n",
       "        vertical-align: top;\n",
       "    }\n",
       "\n",
       "    .dataframe thead th {\n",
       "        text-align: right;\n",
       "    }\n",
       "</style>\n",
       "<table border=\"1\" class=\"dataframe\">\n",
       "  <thead>\n",
       "    <tr style=\"text-align: right;\">\n",
       "      <th></th>\n",
       "      <th>string_id</th>\n",
       "      <th>bws_raw</th>\n",
       "      <th>bwd_raw</th>\n",
       "      <th>iav_raw</th>\n",
       "      <th>sev_raw</th>\n",
       "      <th>gtd_raw</th>\n",
       "      <th>rfr_raw</th>\n",
       "      <th>cfr_raw</th>\n",
       "      <th>drr_raw</th>\n",
       "      <th>ucw_raw</th>\n",
       "      <th>udw_raw</th>\n",
       "      <th>usa_raw</th>\n",
       "      <th>mean_infant_mort</th>\n",
       "      <th>mean_light</th>\n",
       "      <th>pop_density</th>\n",
       "      <th>geometry</th>\n",
       "    </tr>\n",
       "  </thead>\n",
       "  <tbody>\n",
       "    <tr>\n",
       "      <th>0</th>\n",
       "      <td>111011-EGY.11_1-3365</td>\n",
       "      <td>2.318042</td>\n",
       "      <td>0.987061</td>\n",
       "      <td>1.035414</td>\n",
       "      <td>0.962396</td>\n",
       "      <td>0.843958</td>\n",
       "      <td>0.074383</td>\n",
       "      <td>0.0</td>\n",
       "      <td>NaN</td>\n",
       "      <td>0.6139</td>\n",
       "      <td>0.01057</td>\n",
       "      <td>0.023176</td>\n",
       "      <td>34.693151</td>\n",
       "      <td>2.522154</td>\n",
       "      <td>0.000000</td>\n",
       "      <td>POINT (31.89703994079558 29.84799469022497)</td>\n",
       "    </tr>\n",
       "    <tr>\n",
       "      <th>1</th>\n",
       "      <td>111011-EGY.15_1-3365</td>\n",
       "      <td>2.318042</td>\n",
       "      <td>0.987061</td>\n",
       "      <td>1.035414</td>\n",
       "      <td>0.962396</td>\n",
       "      <td>0.843958</td>\n",
       "      <td>0.074383</td>\n",
       "      <td>0.0</td>\n",
       "      <td>NaN</td>\n",
       "      <td>0.6139</td>\n",
       "      <td>0.01057</td>\n",
       "      <td>0.023176</td>\n",
       "      <td>14.868493</td>\n",
       "      <td>13.672038</td>\n",
       "      <td>1506.964639</td>\n",
       "      <td>POINT (32.24300482987483 29.87819768900844)</td>\n",
       "    </tr>\n",
       "    <tr>\n",
       "      <th>2</th>\n",
       "      <td>111011-EGY.15_1-None</td>\n",
       "      <td>2.318042</td>\n",
       "      <td>0.987061</td>\n",
       "      <td>1.035414</td>\n",
       "      <td>0.962396</td>\n",
       "      <td>NaN</td>\n",
       "      <td>0.074383</td>\n",
       "      <td>0.0</td>\n",
       "      <td>NaN</td>\n",
       "      <td>0.6139</td>\n",
       "      <td>0.01057</td>\n",
       "      <td>0.023176</td>\n",
       "      <td>14.868493</td>\n",
       "      <td>36.785975</td>\n",
       "      <td>12130.427165</td>\n",
       "      <td>POINT (32.45095368637701 29.81223771833924)</td>\n",
       "    </tr>\n",
       "    <tr>\n",
       "      <th>3</th>\n",
       "      <td>111011-None-3365</td>\n",
       "      <td>2.318042</td>\n",
       "      <td>0.987061</td>\n",
       "      <td>1.035414</td>\n",
       "      <td>0.962396</td>\n",
       "      <td>0.843958</td>\n",
       "      <td>0.074383</td>\n",
       "      <td>0.0</td>\n",
       "      <td>NaN</td>\n",
       "      <td>NaN</td>\n",
       "      <td>0.01057</td>\n",
       "      <td>0.023176</td>\n",
       "      <td>14.868493</td>\n",
       "      <td>35.409092</td>\n",
       "      <td>0.000000</td>\n",
       "      <td>POINT (32.4796340525661 29.86759208874758)</td>\n",
       "    </tr>\n",
       "    <tr>\n",
       "      <th>4</th>\n",
       "      <td>111011-None-None</td>\n",
       "      <td>2.318042</td>\n",
       "      <td>0.987061</td>\n",
       "      <td>1.035414</td>\n",
       "      <td>0.962396</td>\n",
       "      <td>NaN</td>\n",
       "      <td>0.074383</td>\n",
       "      <td>0.0</td>\n",
       "      <td>NaN</td>\n",
       "      <td>NaN</td>\n",
       "      <td>0.01057</td>\n",
       "      <td>0.023176</td>\n",
       "      <td>14.868493</td>\n",
       "      <td>38.731335</td>\n",
       "      <td>932.199402</td>\n",
       "      <td>POINT (32.4436295957421 29.80798488045403)</td>\n",
       "    </tr>\n",
       "  </tbody>\n",
       "</table>\n",
       "</div>"
      ],
      "text/plain": [
       "              string_id   bws_raw   bwd_raw   iav_raw   sev_raw   gtd_raw  \\\n",
       "0  111011-EGY.11_1-3365  2.318042  0.987061  1.035414  0.962396  0.843958   \n",
       "1  111011-EGY.15_1-3365  2.318042  0.987061  1.035414  0.962396  0.843958   \n",
       "2  111011-EGY.15_1-None  2.318042  0.987061  1.035414  0.962396       NaN   \n",
       "3      111011-None-3365  2.318042  0.987061  1.035414  0.962396  0.843958   \n",
       "4      111011-None-None  2.318042  0.987061  1.035414  0.962396       NaN   \n",
       "\n",
       "    rfr_raw  cfr_raw  drr_raw  ucw_raw  udw_raw   usa_raw  mean_infant_mort  \\\n",
       "0  0.074383      0.0      NaN   0.6139  0.01057  0.023176         34.693151   \n",
       "1  0.074383      0.0      NaN   0.6139  0.01057  0.023176         14.868493   \n",
       "2  0.074383      0.0      NaN   0.6139  0.01057  0.023176         14.868493   \n",
       "3  0.074383      0.0      NaN      NaN  0.01057  0.023176         14.868493   \n",
       "4  0.074383      0.0      NaN      NaN  0.01057  0.023176         14.868493   \n",
       "\n",
       "   mean_light   pop_density                                     geometry  \n",
       "0    2.522154      0.000000  POINT (31.89703994079558 29.84799469022497)  \n",
       "1   13.672038   1506.964639  POINT (32.24300482987483 29.87819768900844)  \n",
       "2   36.785975  12130.427165  POINT (32.45095368637701 29.81223771833924)  \n",
       "3   35.409092      0.000000   POINT (32.4796340525661 29.86759208874758)  \n",
       "4   38.731335    932.199402   POINT (32.4436295957421 29.80798488045403)  "
      ]
     },
     "execution_count": 97,
     "metadata": {},
     "output_type": "execute_result"
    }
   ],
   "source": [
    "data_point.head(5)"
   ]
  },
  {
   "cell_type": "code",
   "execution_count": 98,
   "metadata": {},
   "outputs": [
    {
     "data": {
      "text/html": [
       "<div>\n",
       "<style scoped>\n",
       "    .dataframe tbody tr th:only-of-type {\n",
       "        vertical-align: middle;\n",
       "    }\n",
       "\n",
       "    .dataframe tbody tr th {\n",
       "        vertical-align: top;\n",
       "    }\n",
       "\n",
       "    .dataframe thead th {\n",
       "        text-align: right;\n",
       "    }\n",
       "</style>\n",
       "<table border=\"1\" class=\"dataframe\">\n",
       "  <thead>\n",
       "    <tr style=\"text-align: right;\">\n",
       "      <th></th>\n",
       "      <th>string_id</th>\n",
       "      <th>bws_raw</th>\n",
       "      <th>bwd_raw</th>\n",
       "      <th>iav_raw</th>\n",
       "      <th>sev_raw</th>\n",
       "      <th>gtd_raw</th>\n",
       "      <th>rfr_raw</th>\n",
       "      <th>cfr_raw</th>\n",
       "      <th>drr_raw</th>\n",
       "      <th>ucw_raw</th>\n",
       "      <th>udw_raw</th>\n",
       "      <th>usa_raw</th>\n",
       "      <th>mean_infant_mort</th>\n",
       "      <th>mean_light</th>\n",
       "      <th>pop_density</th>\n",
       "      <th>geometry</th>\n",
       "      <th>x</th>\n",
       "      <th>y</th>\n",
       "    </tr>\n",
       "  </thead>\n",
       "  <tbody>\n",
       "    <tr>\n",
       "      <th>0</th>\n",
       "      <td>111011-EGY.11_1-3365</td>\n",
       "      <td>2.318042</td>\n",
       "      <td>0.987061</td>\n",
       "      <td>1.035414</td>\n",
       "      <td>0.962396</td>\n",
       "      <td>0.843958</td>\n",
       "      <td>0.074383</td>\n",
       "      <td>0.0</td>\n",
       "      <td>NaN</td>\n",
       "      <td>0.6139</td>\n",
       "      <td>0.01057</td>\n",
       "      <td>0.023176</td>\n",
       "      <td>34.693151</td>\n",
       "      <td>2.522154</td>\n",
       "      <td>0.000000</td>\n",
       "      <td>POINT (31.89703994079558 29.84799469022497)</td>\n",
       "      <td>31.897040</td>\n",
       "      <td>29.847995</td>\n",
       "    </tr>\n",
       "    <tr>\n",
       "      <th>1</th>\n",
       "      <td>111011-EGY.15_1-3365</td>\n",
       "      <td>2.318042</td>\n",
       "      <td>0.987061</td>\n",
       "      <td>1.035414</td>\n",
       "      <td>0.962396</td>\n",
       "      <td>0.843958</td>\n",
       "      <td>0.074383</td>\n",
       "      <td>0.0</td>\n",
       "      <td>NaN</td>\n",
       "      <td>0.6139</td>\n",
       "      <td>0.01057</td>\n",
       "      <td>0.023176</td>\n",
       "      <td>14.868493</td>\n",
       "      <td>13.672038</td>\n",
       "      <td>1506.964639</td>\n",
       "      <td>POINT (32.24300482987483 29.87819768900844)</td>\n",
       "      <td>32.243005</td>\n",
       "      <td>29.878198</td>\n",
       "    </tr>\n",
       "    <tr>\n",
       "      <th>2</th>\n",
       "      <td>111011-EGY.15_1-None</td>\n",
       "      <td>2.318042</td>\n",
       "      <td>0.987061</td>\n",
       "      <td>1.035414</td>\n",
       "      <td>0.962396</td>\n",
       "      <td>NaN</td>\n",
       "      <td>0.074383</td>\n",
       "      <td>0.0</td>\n",
       "      <td>NaN</td>\n",
       "      <td>0.6139</td>\n",
       "      <td>0.01057</td>\n",
       "      <td>0.023176</td>\n",
       "      <td>14.868493</td>\n",
       "      <td>36.785975</td>\n",
       "      <td>12130.427165</td>\n",
       "      <td>POINT (32.45095368637701 29.81223771833924)</td>\n",
       "      <td>32.450954</td>\n",
       "      <td>29.812238</td>\n",
       "    </tr>\n",
       "    <tr>\n",
       "      <th>3</th>\n",
       "      <td>111011-None-3365</td>\n",
       "      <td>2.318042</td>\n",
       "      <td>0.987061</td>\n",
       "      <td>1.035414</td>\n",
       "      <td>0.962396</td>\n",
       "      <td>0.843958</td>\n",
       "      <td>0.074383</td>\n",
       "      <td>0.0</td>\n",
       "      <td>NaN</td>\n",
       "      <td>NaN</td>\n",
       "      <td>0.01057</td>\n",
       "      <td>0.023176</td>\n",
       "      <td>14.868493</td>\n",
       "      <td>35.409092</td>\n",
       "      <td>0.000000</td>\n",
       "      <td>POINT (32.4796340525661 29.86759208874758)</td>\n",
       "      <td>32.479634</td>\n",
       "      <td>29.867592</td>\n",
       "    </tr>\n",
       "    <tr>\n",
       "      <th>4</th>\n",
       "      <td>111011-None-None</td>\n",
       "      <td>2.318042</td>\n",
       "      <td>0.987061</td>\n",
       "      <td>1.035414</td>\n",
       "      <td>0.962396</td>\n",
       "      <td>NaN</td>\n",
       "      <td>0.074383</td>\n",
       "      <td>0.0</td>\n",
       "      <td>NaN</td>\n",
       "      <td>NaN</td>\n",
       "      <td>0.01057</td>\n",
       "      <td>0.023176</td>\n",
       "      <td>14.868493</td>\n",
       "      <td>38.731335</td>\n",
       "      <td>932.199402</td>\n",
       "      <td>POINT (32.4436295957421 29.80798488045403)</td>\n",
       "      <td>32.443630</td>\n",
       "      <td>29.807985</td>\n",
       "    </tr>\n",
       "  </tbody>\n",
       "</table>\n",
       "</div>"
      ],
      "text/plain": [
       "              string_id   bws_raw   bwd_raw   iav_raw   sev_raw   gtd_raw  \\\n",
       "0  111011-EGY.11_1-3365  2.318042  0.987061  1.035414  0.962396  0.843958   \n",
       "1  111011-EGY.15_1-3365  2.318042  0.987061  1.035414  0.962396  0.843958   \n",
       "2  111011-EGY.15_1-None  2.318042  0.987061  1.035414  0.962396       NaN   \n",
       "3      111011-None-3365  2.318042  0.987061  1.035414  0.962396  0.843958   \n",
       "4      111011-None-None  2.318042  0.987061  1.035414  0.962396       NaN   \n",
       "\n",
       "    rfr_raw  cfr_raw  drr_raw  ucw_raw  udw_raw   usa_raw  mean_infant_mort  \\\n",
       "0  0.074383      0.0      NaN   0.6139  0.01057  0.023176         34.693151   \n",
       "1  0.074383      0.0      NaN   0.6139  0.01057  0.023176         14.868493   \n",
       "2  0.074383      0.0      NaN   0.6139  0.01057  0.023176         14.868493   \n",
       "3  0.074383      0.0      NaN      NaN  0.01057  0.023176         14.868493   \n",
       "4  0.074383      0.0      NaN      NaN  0.01057  0.023176         14.868493   \n",
       "\n",
       "   mean_light   pop_density                                     geometry  \\\n",
       "0    2.522154      0.000000  POINT (31.89703994079558 29.84799469022497)   \n",
       "1   13.672038   1506.964639  POINT (32.24300482987483 29.87819768900844)   \n",
       "2   36.785975  12130.427165  POINT (32.45095368637701 29.81223771833924)   \n",
       "3   35.409092      0.000000   POINT (32.4796340525661 29.86759208874758)   \n",
       "4   38.731335    932.199402   POINT (32.4436295957421 29.80798488045403)   \n",
       "\n",
       "           x          y  \n",
       "0  31.897040  29.847995  \n",
       "1  32.243005  29.878198  \n",
       "2  32.450954  29.812238  \n",
       "3  32.479634  29.867592  \n",
       "4  32.443630  29.807985  "
      ]
     },
     "execution_count": 98,
     "metadata": {},
     "output_type": "execute_result"
    }
   ],
   "source": [
    "data_point['x'] = data_point.geometry.x\n",
    "data_point['y'] = data_point.geometry.y\n",
    "data_point.head(5)"
   ]
  },
  {
   "cell_type": "markdown",
   "metadata": {},
   "source": [
    "# Create Pipeline\n",
    "\n",
    "1. Imputation option for missing data: https://scikit-learn.org/stable/modules/impute.html\n",
    "1. Standard scaler\n",
    "1. kmeans\n",
    "1. optimize K using elbow method: https://www.scikit-yb.org/en/latest/api/cluster/elbow.html\n",
    "1. generate final clusters\n",
    "1. join clusters back to original data (unscaled)\n",
    "1. summarise means for each group\n",
    "1. describe group typologies"
   ]
  },
  {
   "cell_type": "code",
   "execution_count": 69,
   "metadata": {},
   "outputs": [
    {
     "data": {
      "text/plain": [
       "<matplotlib.axes._subplots.AxesSubplot at 0x1d68d820c50>"
      ]
     },
     "execution_count": 69,
     "metadata": {},
     "output_type": "execute_result"
    },
    {
     "data": {
      "image/png": "[encoded data removed]",
      "text/plain": [
       "<Figure size 1728x720 with 3 Axes>"
      ]
     },
     "metadata": {
      "needs_background": "light"
     },
     "output_type": "display_data"
    }
   ],
   "source": [
    "import missingno as msno\n",
    "msno.bar(data_point)"
   ]
  },
  {
   "cell_type": "markdown",
   "metadata": {},
   "source": [
    "## Dropping all NA Values"
   ]
  },
  {
   "cell_type": "code",
   "execution_count": 99,
   "metadata": {},
   "outputs": [
    {
     "data": {
      "text/plain": [
       "(42823, 18)"
      ]
     },
     "execution_count": 99,
     "metadata": {},
     "output_type": "execute_result"
    }
   ],
   "source": [
    "data_nona = data_point.dropna()\n",
    "data_nona.shape"
   ]
  },
  {
   "cell_type": "markdown",
   "metadata": {},
   "source": [
    "## Scaling the values"
   ]
  },
  {
   "cell_type": "code",
   "execution_count": 100,
   "metadata": {},
   "outputs": [],
   "source": [
    "scaler = StandardScaler()"
   ]
  },
  {
   "cell_type": "code",
   "execution_count": 101,
   "metadata": {},
   "outputs": [],
   "source": [
    "data_scaled = data_nona.copy()\n",
    "data_scaled = data_scaled.drop(['string_id', 'geometry', 'x', 'y'], axis=1)\n",
    "col_names = list(data_scaled.columns)"
   ]
  },
  {
   "cell_type": "code",
   "execution_count": 102,
   "metadata": {},
   "outputs": [
    {
     "data": {
      "text/html": [
       "<div>\n",
       "<style scoped>\n",
       "    .dataframe tbody tr th:only-of-type {\n",
       "        vertical-align: middle;\n",
       "    }\n",
       "\n",
       "    .dataframe tbody tr th {\n",
       "        vertical-align: top;\n",
       "    }\n",
       "\n",
       "    .dataframe thead th {\n",
       "        text-align: right;\n",
       "    }\n",
       "</style>\n",
       "<table border=\"1\" class=\"dataframe\">\n",
       "  <thead>\n",
       "    <tr style=\"text-align: right;\">\n",
       "      <th></th>\n",
       "      <th>bws_raw</th>\n",
       "      <th>bwd_raw</th>\n",
       "      <th>iav_raw</th>\n",
       "      <th>sev_raw</th>\n",
       "      <th>gtd_raw</th>\n",
       "      <th>rfr_raw</th>\n",
       "      <th>cfr_raw</th>\n",
       "      <th>drr_raw</th>\n",
       "      <th>ucw_raw</th>\n",
       "      <th>udw_raw</th>\n",
       "      <th>usa_raw</th>\n",
       "      <th>mean_infant_mort</th>\n",
       "      <th>mean_light</th>\n",
       "      <th>pop_density</th>\n",
       "    </tr>\n",
       "  </thead>\n",
       "  <tbody>\n",
       "    <tr>\n",
       "      <th>0</th>\n",
       "      <td>-0.004001</td>\n",
       "      <td>-0.01858</td>\n",
       "      <td>0.049857</td>\n",
       "      <td>1.805647</td>\n",
       "      <td>0.609039</td>\n",
       "      <td>5.620707</td>\n",
       "      <td>-0.062046</td>\n",
       "      <td>-0.094333</td>\n",
       "      <td>-2.27507</td>\n",
       "      <td>0.614729</td>\n",
       "      <td>1.706679</td>\n",
       "      <td>0.510622</td>\n",
       "      <td>-0.375813</td>\n",
       "      <td>-0.184027</td>\n",
       "    </tr>\n",
       "    <tr>\n",
       "      <th>1</th>\n",
       "      <td>-0.004001</td>\n",
       "      <td>-0.01858</td>\n",
       "      <td>0.049857</td>\n",
       "      <td>1.805647</td>\n",
       "      <td>0.609039</td>\n",
       "      <td>5.620707</td>\n",
       "      <td>-0.062046</td>\n",
       "      <td>-0.094333</td>\n",
       "      <td>-2.27507</td>\n",
       "      <td>0.614729</td>\n",
       "      <td>1.706679</td>\n",
       "      <td>0.981404</td>\n",
       "      <td>-0.364078</td>\n",
       "      <td>-0.184027</td>\n",
       "    </tr>\n",
       "    <tr>\n",
       "      <th>2</th>\n",
       "      <td>-0.004001</td>\n",
       "      <td>-0.01858</td>\n",
       "      <td>0.049857</td>\n",
       "      <td>1.805647</td>\n",
       "      <td>0.025061</td>\n",
       "      <td>5.620707</td>\n",
       "      <td>-0.062046</td>\n",
       "      <td>-0.094333</td>\n",
       "      <td>-2.27507</td>\n",
       "      <td>0.614729</td>\n",
       "      <td>1.706679</td>\n",
       "      <td>0.735557</td>\n",
       "      <td>-0.348646</td>\n",
       "      <td>-0.148502</td>\n",
       "    </tr>\n",
       "    <tr>\n",
       "      <th>3</th>\n",
       "      <td>-0.004001</td>\n",
       "      <td>-0.01858</td>\n",
       "      <td>0.049857</td>\n",
       "      <td>1.805647</td>\n",
       "      <td>-0.059627</td>\n",
       "      <td>5.620707</td>\n",
       "      <td>-0.062046</td>\n",
       "      <td>-0.094333</td>\n",
       "      <td>-2.27507</td>\n",
       "      <td>0.614729</td>\n",
       "      <td>1.706679</td>\n",
       "      <td>0.735557</td>\n",
       "      <td>-0.340406</td>\n",
       "      <td>-0.151690</td>\n",
       "    </tr>\n",
       "    <tr>\n",
       "      <th>4</th>\n",
       "      <td>-0.004001</td>\n",
       "      <td>-0.01858</td>\n",
       "      <td>0.049857</td>\n",
       "      <td>1.805647</td>\n",
       "      <td>0.609039</td>\n",
       "      <td>5.620707</td>\n",
       "      <td>-0.062046</td>\n",
       "      <td>-0.094333</td>\n",
       "      <td>-2.27507</td>\n",
       "      <td>0.614729</td>\n",
       "      <td>1.706679</td>\n",
       "      <td>0.736560</td>\n",
       "      <td>-0.361758</td>\n",
       "      <td>-0.171148</td>\n",
       "    </tr>\n",
       "  </tbody>\n",
       "</table>\n",
       "</div>"
      ],
      "text/plain": [
       "    bws_raw  bwd_raw   iav_raw   sev_raw   gtd_raw   rfr_raw   cfr_raw  \\\n",
       "0 -0.004001 -0.01858  0.049857  1.805647  0.609039  5.620707 -0.062046   \n",
       "1 -0.004001 -0.01858  0.049857  1.805647  0.609039  5.620707 -0.062046   \n",
       "2 -0.004001 -0.01858  0.049857  1.805647  0.025061  5.620707 -0.062046   \n",
       "3 -0.004001 -0.01858  0.049857  1.805647 -0.059627  5.620707 -0.062046   \n",
       "4 -0.004001 -0.01858  0.049857  1.805647  0.609039  5.620707 -0.062046   \n",
       "\n",
       "    drr_raw  ucw_raw   udw_raw   usa_raw  mean_infant_mort  mean_light  \\\n",
       "0 -0.094333 -2.27507  0.614729  1.706679          0.510622   -0.375813   \n",
       "1 -0.094333 -2.27507  0.614729  1.706679          0.981404   -0.364078   \n",
       "2 -0.094333 -2.27507  0.614729  1.706679          0.735557   -0.348646   \n",
       "3 -0.094333 -2.27507  0.614729  1.706679          0.735557   -0.340406   \n",
       "4 -0.094333 -2.27507  0.614729  1.706679          0.736560   -0.361758   \n",
       "\n",
       "   pop_density  \n",
       "0    -0.184027  \n",
       "1    -0.184027  \n",
       "2    -0.148502  \n",
       "3    -0.151690  \n",
       "4    -0.171148  "
      ]
     },
     "execution_count": 102,
     "metadata": {},
     "output_type": "execute_result"
    }
   ],
   "source": [
    "data_scaled = pd.DataFrame(scaler.fit_transform(data_scaled))\n",
    "data_scaled.columns = col_names\n",
    "data_scaled.head()"
   ]
  },
  {
   "cell_type": "code",
   "execution_count": 103,
   "metadata": {},
   "outputs": [
    {
     "data": {
      "text/html": [
       "<div>\n",
       "<style scoped>\n",
       "    .dataframe tbody tr th:only-of-type {\n",
       "        vertical-align: middle;\n",
       "    }\n",
       "\n",
       "    .dataframe tbody tr th {\n",
       "        vertical-align: top;\n",
       "    }\n",
       "\n",
       "    .dataframe thead th {\n",
       "        text-align: right;\n",
       "    }\n",
       "</style>\n",
       "<table border=\"1\" class=\"dataframe\">\n",
       "  <thead>\n",
       "    <tr style=\"text-align: right;\">\n",
       "      <th></th>\n",
       "      <th>x</th>\n",
       "      <th>y</th>\n",
       "    </tr>\n",
       "  </thead>\n",
       "  <tbody>\n",
       "    <tr>\n",
       "      <th>0</th>\n",
       "      <td>38.022361</td>\n",
       "      <td>17.517010</td>\n",
       "    </tr>\n",
       "    <tr>\n",
       "      <th>1</th>\n",
       "      <td>37.894224</td>\n",
       "      <td>17.455719</td>\n",
       "    </tr>\n",
       "    <tr>\n",
       "      <th>2</th>\n",
       "      <td>37.544056</td>\n",
       "      <td>18.157662</td>\n",
       "    </tr>\n",
       "    <tr>\n",
       "      <th>3</th>\n",
       "      <td>37.712647</td>\n",
       "      <td>18.339959</td>\n",
       "    </tr>\n",
       "    <tr>\n",
       "      <th>4</th>\n",
       "      <td>37.647570</td>\n",
       "      <td>17.769759</td>\n",
       "    </tr>\n",
       "  </tbody>\n",
       "</table>\n",
       "</div>"
      ],
      "text/plain": [
       "           x          y\n",
       "0  38.022361  17.517010\n",
       "1  37.894224  17.455719\n",
       "2  37.544056  18.157662\n",
       "3  37.712647  18.339959\n",
       "4  37.647570  17.769759"
      ]
     },
     "execution_count": 103,
     "metadata": {},
     "output_type": "execute_result"
    }
   ],
   "source": [
    "data_DBscan = data_nona[['x', 'y']].copy()\n",
    "data_DBscan = data_DBscan.reset_index()\n",
    "data_DBscan = data_DBscan.drop(['index'], axis = 1)\n",
    "data_DBscan.head()"
   ]
  },
  {
   "cell_type": "code",
   "execution_count": 104,
   "metadata": {},
   "outputs": [
    {
     "data": {
      "text/html": [
       "<div>\n",
       "<style scoped>\n",
       "    .dataframe tbody tr th:only-of-type {\n",
       "        vertical-align: middle;\n",
       "    }\n",
       "\n",
       "    .dataframe tbody tr th {\n",
       "        vertical-align: top;\n",
       "    }\n",
       "\n",
       "    .dataframe thead th {\n",
       "        text-align: right;\n",
       "    }\n",
       "</style>\n",
       "<table border=\"1\" class=\"dataframe\">\n",
       "  <thead>\n",
       "    <tr style=\"text-align: right;\">\n",
       "      <th></th>\n",
       "      <th>x</th>\n",
       "      <th>y</th>\n",
       "      <th>bws_raw</th>\n",
       "      <th>bwd_raw</th>\n",
       "      <th>iav_raw</th>\n",
       "      <th>sev_raw</th>\n",
       "      <th>gtd_raw</th>\n",
       "      <th>rfr_raw</th>\n",
       "      <th>cfr_raw</th>\n",
       "      <th>drr_raw</th>\n",
       "      <th>ucw_raw</th>\n",
       "      <th>udw_raw</th>\n",
       "      <th>usa_raw</th>\n",
       "      <th>mean_infant_mort</th>\n",
       "      <th>mean_light</th>\n",
       "      <th>pop_density</th>\n",
       "    </tr>\n",
       "  </thead>\n",
       "  <tbody>\n",
       "    <tr>\n",
       "      <th>0</th>\n",
       "      <td>38.022361</td>\n",
       "      <td>17.517010</td>\n",
       "      <td>-0.004001</td>\n",
       "      <td>-0.01858</td>\n",
       "      <td>0.049857</td>\n",
       "      <td>1.805647</td>\n",
       "      <td>0.609039</td>\n",
       "      <td>5.620707</td>\n",
       "      <td>-0.062046</td>\n",
       "      <td>-0.094333</td>\n",
       "      <td>-2.27507</td>\n",
       "      <td>0.614729</td>\n",
       "      <td>1.706679</td>\n",
       "      <td>0.510622</td>\n",
       "      <td>-0.375813</td>\n",
       "      <td>-0.184027</td>\n",
       "    </tr>\n",
       "    <tr>\n",
       "      <th>1</th>\n",
       "      <td>37.894224</td>\n",
       "      <td>17.455719</td>\n",
       "      <td>-0.004001</td>\n",
       "      <td>-0.01858</td>\n",
       "      <td>0.049857</td>\n",
       "      <td>1.805647</td>\n",
       "      <td>0.609039</td>\n",
       "      <td>5.620707</td>\n",
       "      <td>-0.062046</td>\n",
       "      <td>-0.094333</td>\n",
       "      <td>-2.27507</td>\n",
       "      <td>0.614729</td>\n",
       "      <td>1.706679</td>\n",
       "      <td>0.981404</td>\n",
       "      <td>-0.364078</td>\n",
       "      <td>-0.184027</td>\n",
       "    </tr>\n",
       "    <tr>\n",
       "      <th>2</th>\n",
       "      <td>37.544056</td>\n",
       "      <td>18.157662</td>\n",
       "      <td>-0.004001</td>\n",
       "      <td>-0.01858</td>\n",
       "      <td>0.049857</td>\n",
       "      <td>1.805647</td>\n",
       "      <td>0.025061</td>\n",
       "      <td>5.620707</td>\n",
       "      <td>-0.062046</td>\n",
       "      <td>-0.094333</td>\n",
       "      <td>-2.27507</td>\n",
       "      <td>0.614729</td>\n",
       "      <td>1.706679</td>\n",
       "      <td>0.735557</td>\n",
       "      <td>-0.348646</td>\n",
       "      <td>-0.148502</td>\n",
       "    </tr>\n",
       "    <tr>\n",
       "      <th>3</th>\n",
       "      <td>37.712647</td>\n",
       "      <td>18.339959</td>\n",
       "      <td>-0.004001</td>\n",
       "      <td>-0.01858</td>\n",
       "      <td>0.049857</td>\n",
       "      <td>1.805647</td>\n",
       "      <td>-0.059627</td>\n",
       "      <td>5.620707</td>\n",
       "      <td>-0.062046</td>\n",
       "      <td>-0.094333</td>\n",
       "      <td>-2.27507</td>\n",
       "      <td>0.614729</td>\n",
       "      <td>1.706679</td>\n",
       "      <td>0.735557</td>\n",
       "      <td>-0.340406</td>\n",
       "      <td>-0.151690</td>\n",
       "    </tr>\n",
       "    <tr>\n",
       "      <th>4</th>\n",
       "      <td>37.647570</td>\n",
       "      <td>17.769759</td>\n",
       "      <td>-0.004001</td>\n",
       "      <td>-0.01858</td>\n",
       "      <td>0.049857</td>\n",
       "      <td>1.805647</td>\n",
       "      <td>0.609039</td>\n",
       "      <td>5.620707</td>\n",
       "      <td>-0.062046</td>\n",
       "      <td>-0.094333</td>\n",
       "      <td>-2.27507</td>\n",
       "      <td>0.614729</td>\n",
       "      <td>1.706679</td>\n",
       "      <td>0.736560</td>\n",
       "      <td>-0.361758</td>\n",
       "      <td>-0.171148</td>\n",
       "    </tr>\n",
       "  </tbody>\n",
       "</table>\n",
       "</div>"
      ],
      "text/plain": [
       "           x          y   bws_raw  bwd_raw   iav_raw   sev_raw   gtd_raw  \\\n",
       "0  38.022361  17.517010 -0.004001 -0.01858  0.049857  1.805647  0.609039   \n",
       "1  37.894224  17.455719 -0.004001 -0.01858  0.049857  1.805647  0.609039   \n",
       "2  37.544056  18.157662 -0.004001 -0.01858  0.049857  1.805647  0.025061   \n",
       "3  37.712647  18.339959 -0.004001 -0.01858  0.049857  1.805647 -0.059627   \n",
       "4  37.647570  17.769759 -0.004001 -0.01858  0.049857  1.805647  0.609039   \n",
       "\n",
       "    rfr_raw   cfr_raw   drr_raw  ucw_raw   udw_raw   usa_raw  \\\n",
       "0  5.620707 -0.062046 -0.094333 -2.27507  0.614729  1.706679   \n",
       "1  5.620707 -0.062046 -0.094333 -2.27507  0.614729  1.706679   \n",
       "2  5.620707 -0.062046 -0.094333 -2.27507  0.614729  1.706679   \n",
       "3  5.620707 -0.062046 -0.094333 -2.27507  0.614729  1.706679   \n",
       "4  5.620707 -0.062046 -0.094333 -2.27507  0.614729  1.706679   \n",
       "\n",
       "   mean_infant_mort  mean_light  pop_density  \n",
       "0          0.510622   -0.375813    -0.184027  \n",
       "1          0.981404   -0.364078    -0.184027  \n",
       "2          0.735557   -0.348646    -0.148502  \n",
       "3          0.735557   -0.340406    -0.151690  \n",
       "4          0.736560   -0.361758    -0.171148  "
      ]
     },
     "execution_count": 104,
     "metadata": {},
     "output_type": "execute_result"
    }
   ],
   "source": [
    "data_DBscan = pd.concat([data_DBscan, data_scaled], axis = 1)\n",
    "data_DBscan.head()"
   ]
  },
  {
   "cell_type": "code",
   "execution_count": 105,
   "metadata": {},
   "outputs": [
    {
     "data": {
      "text/plain": [
       "(42823, 16)"
      ]
     },
     "execution_count": 105,
     "metadata": {},
     "output_type": "execute_result"
    }
   ],
   "source": [
    "data_DBscan.shape"
   ]
  },
  {
   "cell_type": "markdown",
   "metadata": {},
   "source": [
    "## Creating the Clusters"
   ]
  },
  {
   "cell_type": "code",
   "execution_count": 110,
   "metadata": {},
   "outputs": [],
   "source": [
    "eps = 10000\n",
    "min_samples = 5\n",
    "\n",
    "cores, labels = dbscan(data_DBscan[[\"x\", \"y\"]], eps=eps, min_samples=min_samples)"
   ]
  },
  {
   "cell_type": "code",
   "execution_count": 111,
   "metadata": {},
   "outputs": [
    {
     "data": {
      "text/plain": [
       "array([0, 1, 2, 3, 4], dtype=int64)"
      ]
     },
     "execution_count": 111,
     "metadata": {},
     "output_type": "execute_result"
    }
   ],
   "source": [
    "cores[:5]"
   ]
  },
  {
   "cell_type": "code",
   "execution_count": 112,
   "metadata": {},
   "outputs": [
    {
     "name": "stdout",
     "output_type": "stream",
     "text": [
      "42823\n"
     ]
    }
   ],
   "source": [
    "print(len(cores))"
   ]
  }
 ],
 "metadata": {
  "kernelspec": {
   "display_name": "Python 3",
   "language": "python",
   "name": "python3"
  },
  "language_info": {
   "codemirror_mode": {
    "name": "ipython",
    "version": 3
   },
   "file_extension": ".py",
   "mimetype": "text/x-python",
   "name": "python",
   "nbconvert_exporter": "python",
   "pygments_lexer": "ipython3",
   "version": "3.6.9"
  }
 },
 "nbformat": 4,
 "nbformat_minor": 2
}
