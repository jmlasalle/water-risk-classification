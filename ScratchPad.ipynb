{
 "cells": [
  {
   "cell_type": "markdown",
   "metadata": {},
   "source": [
    "# Scratch Pad\n",
    "\n",
    "This notebook contains functions and code that wasn't used in the final codebase but we wanted to save for reference."
   ]
  },
  {
   "cell_type": "code",
   "execution_count": null,
   "metadata": {},
   "outputs": [],
   "source": [
    "# Dynamic Bokeh Map\n",
    "\n",
    "def classMap(path):\n",
    "\n",
    "    plot = hv.RGB.load_image(path)\n",
    "\n",
    "    base = tiles.StamenToner\n",
    "\n",
    "    return base * plot\n"
   ]
  },
  {
   "cell_type": "code",
   "execution_count": null,
   "metadata": {},
   "outputs": [],
   "source": [
    "# Dynamic Bokeh Map\n",
    "def dynClassMap(classes):\n",
    "    points = hv.Points(data, kdims=['x', 'y'], vdims=[classes]).opts(color=classes)\n",
    "    datashaded  = hd.datashade(points, aggregator=ds.count_cat(classes), \n",
    "                               color_key=color_key, dynamic=True,\n",
    "                              ).opts(height=400, width=800, xaxis=None, yaxis=None, alpha=1)\n",
    "    final = datashaded\n",
    "    return final"
   ]
  },
  {
   "cell_type": "code",
   "execution_count": null,
   "metadata": {},
   "outputs": [],
   "source": [
    "# Grid and group\n",
    "# Create grid of points every 10km\n",
    "# from https://gis.stackexchange.com/questions/269243/creating-polygon-grid-using-geopandas\n",
    "\n",
    "xmin,ymin,xmax,ymax = data.total_bounds\n",
    "\n",
    "cols = list(range(int(np.floor(xmin)), int(np.ceil(xmax)+1000), 10000))\n",
    "rows = list(range(int(np.floor(ymin)), int(np.ceil(ymax)+1000), 10000))\n",
    "rows.reverse()\n",
    "\n",
    "points = []\n",
    "\n",
    "for x in cols:\n",
    "    for y in rows:\n",
    "        points.append(Point(x,y))\n",
    "        \n",
    "# Create grid GeoDataFrame\n",
    "grid = gpd.GeoDataFrame({'geometry': points}, crs={'init':'epsg:6933'})\n",
    "# grid = grid.to_crs({'init':'epsg:4326'})\n",
    "\n",
    "grid.crs == data.crs\n",
    "\n",
    "#Join polygon attributes to the grid\n",
    "grid_joined = gpd.sjoin(grid, data, how=\"inner\", op='intersects')\n",
    "\n",
    "# Convert to lat long\n",
    "grid_joined = grid_joined.to_crs({'init':'epsg:3857'})\n",
    "\n",
    "grid_joined['x'] = grid_joined.geometry.x\n",
    "grid_joined['y'] = grid_joined.geometry.y\n",
    "\n",
    "grid_joined.to_file(\"./data/grid.shp\")\n",
    "\n",
    "grid_df = pd.DataFrame(grid_joined.drop(columns='geometry')\n",
    "                      ).rename({'index_right': 'basin_id', \n",
    "                                'DBScan_labels': 'label'}, \n",
    "                               axis=1)\n",
    "\n",
    "grid_df.to_csv(\"./data/dashboard_data.csv\")"
   ]
  }
 ],
 "metadata": {
  "kernelspec": {
   "display_name": "Python 3",
   "language": "python",
   "name": "python3"
  },
  "language_info": {
   "codemirror_mode": {
    "name": "ipython",
    "version": 3
   },
   "file_extension": ".py",
   "mimetype": "text/x-python",
   "name": "python",
   "nbconvert_exporter": "python",
   "pygments_lexer": "ipython3",
   "version": "3.7.5"
  }
 },
 "nbformat": 4,
 "nbformat_minor": 2
}
