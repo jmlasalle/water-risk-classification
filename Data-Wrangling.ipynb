{
 "cells": [
  {
   "cell_type": "markdown",
   "metadata": {},
   "source": [
    "# Water Risk Classification: Data Wrangling"
   ]
  },
  {
   "cell_type": "markdown",
   "metadata": {},
   "source": [
    "## Setup"
   ]
  },
  {
   "cell_type": "code",
   "execution_count": 11,
   "metadata": {},
   "outputs": [],
   "source": [
    "import pandas as pd\n",
    "import geopandas as gpd\n",
    "import requests, zipfile, io, os"
   ]
  },
  {
   "cell_type": "markdown",
   "metadata": {},
   "source": [
    "## Load Data\n",
    "Download, unzip and open WRI Aqueduct. View [metadata](https://github.com/wri/aqueduct30_data_download/blob/master/metadata.md)."
   ]
  },
  {
   "cell_type": "code",
   "execution_count": 7,
   "metadata": {},
   "outputs": [],
   "source": [
    "url_aq = 'https://wri-projects.s3.amazonaws.com/Aqueduct30/finalData/Y2019M07D12_Aqueduct30_V01.zip'\n",
    "\n",
    "r = requests.get(url_aq) # download zipped directory\n",
    "z = zipfile.ZipFile(io.BytesIO(r.content)) # create zipfile object\n",
    "z.extractall(path='data') # unzip into data subdirectory"
   ]
  },
  {
   "cell_type": "code",
   "execution_count": 22,
   "metadata": {},
   "outputs": [
    {
     "name": "stderr",
     "output_type": "stream",
     "text": [
      "/Users/johnmichaellasalle/anaconda3/envs/water-risk-classification/lib/python3.7/site-packages/IPython/core/interactiveshell.py:3058: DtypeWarning: Columns (12,16,20,24,32,36,40,48) have mixed types. Specify dtype option on import or set low_memory=False.\n",
      "  interactivity=interactivity, compiler=compiler, result=result)\n"
     ]
    },
    {
     "data": {
      "text/html": [
       "<div>\n",
       "<style scoped>\n",
       "    .dataframe tbody tr th:only-of-type {\n",
       "        vertical-align: middle;\n",
       "    }\n",
       "\n",
       "    .dataframe tbody tr th {\n",
       "        vertical-align: top;\n",
       "    }\n",
       "\n",
       "    .dataframe thead th {\n",
       "        text-align: right;\n",
       "    }\n",
       "</style>\n",
       "<table border=\"1\" class=\"dataframe\">\n",
       "  <thead>\n",
       "    <tr style=\"text-align: right;\">\n",
       "      <th></th>\n",
       "      <th>string_id</th>\n",
       "      <th>aq30_id</th>\n",
       "      <th>pfaf_id</th>\n",
       "      <th>gid_1</th>\n",
       "      <th>aqid</th>\n",
       "      <th>gid_0</th>\n",
       "      <th>name_0</th>\n",
       "      <th>name_1</th>\n",
       "      <th>area_km2</th>\n",
       "      <th>bws_raw</th>\n",
       "      <th>...</th>\n",
       "      <th>w_awr_tex_rrr_raw</th>\n",
       "      <th>w_awr_tex_rrr_score</th>\n",
       "      <th>w_awr_tex_rrr_cat</th>\n",
       "      <th>w_awr_tex_rrr_label</th>\n",
       "      <th>w_awr_tex_rrr_weight_fraction</th>\n",
       "      <th>w_awr_tex_tot_raw</th>\n",
       "      <th>w_awr_tex_tot_score</th>\n",
       "      <th>w_awr_tex_tot_cat</th>\n",
       "      <th>w_awr_tex_tot_label</th>\n",
       "      <th>w_awr_tex_tot_weight_fraction</th>\n",
       "    </tr>\n",
       "  </thead>\n",
       "  <tbody>\n",
       "    <tr>\n",
       "      <th>0</th>\n",
       "      <td>111011-EGY.11_1-3365</td>\n",
       "      <td>0</td>\n",
       "      <td>111011</td>\n",
       "      <td>EGY.11_1</td>\n",
       "      <td>3365</td>\n",
       "      <td>EGY</td>\n",
       "      <td>Egypt</td>\n",
       "      <td>Al Qahirah</td>\n",
       "      <td>4.223754</td>\n",
       "      <td>2.318042</td>\n",
       "      <td>...</td>\n",
       "      <td>1.622678</td>\n",
       "      <td>2.165272</td>\n",
       "      <td>2.0</td>\n",
       "      <td>Medium - High (2-3)</td>\n",
       "      <td>0.326531</td>\n",
       "      <td>2.457171</td>\n",
       "      <td>3.614603</td>\n",
       "      <td>3.0</td>\n",
       "      <td>High (3-4)</td>\n",
       "      <td>0.877551</td>\n",
       "    </tr>\n",
       "    <tr>\n",
       "      <th>1</th>\n",
       "      <td>111011-EGY.15_1-3365</td>\n",
       "      <td>1</td>\n",
       "      <td>111011</td>\n",
       "      <td>EGY.15_1</td>\n",
       "      <td>3365</td>\n",
       "      <td>EGY</td>\n",
       "      <td>Egypt</td>\n",
       "      <td>As Suways</td>\n",
       "      <td>1846.012343</td>\n",
       "      <td>2.318042</td>\n",
       "      <td>...</td>\n",
       "      <td>1.622678</td>\n",
       "      <td>2.165272</td>\n",
       "      <td>2.0</td>\n",
       "      <td>Medium - High (2-3)</td>\n",
       "      <td>0.326531</td>\n",
       "      <td>2.457171</td>\n",
       "      <td>3.614603</td>\n",
       "      <td>3.0</td>\n",
       "      <td>High (3-4)</td>\n",
       "      <td>0.877551</td>\n",
       "    </tr>\n",
       "    <tr>\n",
       "      <th>2</th>\n",
       "      <td>111011-EGY.15_1-None</td>\n",
       "      <td>2</td>\n",
       "      <td>111011</td>\n",
       "      <td>EGY.15_1</td>\n",
       "      <td>-9999</td>\n",
       "      <td>EGY</td>\n",
       "      <td>Egypt</td>\n",
       "      <td>As Suways</td>\n",
       "      <td>30.526067</td>\n",
       "      <td>2.318042</td>\n",
       "      <td>...</td>\n",
       "      <td>1.622678</td>\n",
       "      <td>2.165272</td>\n",
       "      <td>2.0</td>\n",
       "      <td>Medium - High (2-3)</td>\n",
       "      <td>0.326531</td>\n",
       "      <td>2.457171</td>\n",
       "      <td>3.614603</td>\n",
       "      <td>3.0</td>\n",
       "      <td>High (3-4)</td>\n",
       "      <td>0.877551</td>\n",
       "    </tr>\n",
       "    <tr>\n",
       "      <th>3</th>\n",
       "      <td>111011-None-3365</td>\n",
       "      <td>3</td>\n",
       "      <td>111011</td>\n",
       "      <td>-9999</td>\n",
       "      <td>3365</td>\n",
       "      <td>-9999</td>\n",
       "      <td>-9999</td>\n",
       "      <td>-9999</td>\n",
       "      <td>0.742712</td>\n",
       "      <td>2.318042</td>\n",
       "      <td>...</td>\n",
       "      <td>0.445356</td>\n",
       "      <td>1.133763</td>\n",
       "      <td>1.0</td>\n",
       "      <td>Low - Medium (1-2)</td>\n",
       "      <td>0.163265</td>\n",
       "      <td>2.477321</td>\n",
       "      <td>3.649648</td>\n",
       "      <td>3.0</td>\n",
       "      <td>High (3-4)</td>\n",
       "      <td>0.551020</td>\n",
       "    </tr>\n",
       "    <tr>\n",
       "      <th>4</th>\n",
       "      <td>111011-None-None</td>\n",
       "      <td>4</td>\n",
       "      <td>111011</td>\n",
       "      <td>-9999</td>\n",
       "      <td>-9999</td>\n",
       "      <td>-9999</td>\n",
       "      <td>-9999</td>\n",
       "      <td>-9999</td>\n",
       "      <td>13.430995</td>\n",
       "      <td>2.318042</td>\n",
       "      <td>...</td>\n",
       "      <td>0.445356</td>\n",
       "      <td>1.133763</td>\n",
       "      <td>1.0</td>\n",
       "      <td>Low - Medium (1-2)</td>\n",
       "      <td>0.163265</td>\n",
       "      <td>2.477321</td>\n",
       "      <td>3.649648</td>\n",
       "      <td>3.0</td>\n",
       "      <td>High (3-4)</td>\n",
       "      <td>0.551020</td>\n",
       "    </tr>\n",
       "  </tbody>\n",
       "</table>\n",
       "<p>5 rows × 260 columns</p>\n",
       "</div>"
      ],
      "text/plain": [
       "              string_id  aq30_id  pfaf_id     gid_1  aqid  gid_0 name_0  \\\n",
       "0  111011-EGY.11_1-3365        0   111011  EGY.11_1  3365    EGY  Egypt   \n",
       "1  111011-EGY.15_1-3365        1   111011  EGY.15_1  3365    EGY  Egypt   \n",
       "2  111011-EGY.15_1-None        2   111011  EGY.15_1 -9999    EGY  Egypt   \n",
       "3      111011-None-3365        3   111011     -9999  3365  -9999  -9999   \n",
       "4      111011-None-None        4   111011     -9999 -9999  -9999  -9999   \n",
       "\n",
       "       name_1     area_km2   bws_raw  ...  w_awr_tex_rrr_raw  \\\n",
       "0  Al Qahirah     4.223754  2.318042  ...           1.622678   \n",
       "1   As Suways  1846.012343  2.318042  ...           1.622678   \n",
       "2   As Suways    30.526067  2.318042  ...           1.622678   \n",
       "3       -9999     0.742712  2.318042  ...           0.445356   \n",
       "4       -9999    13.430995  2.318042  ...           0.445356   \n",
       "\n",
       "   w_awr_tex_rrr_score w_awr_tex_rrr_cat  w_awr_tex_rrr_label  \\\n",
       "0             2.165272               2.0  Medium - High (2-3)   \n",
       "1             2.165272               2.0  Medium - High (2-3)   \n",
       "2             2.165272               2.0  Medium - High (2-3)   \n",
       "3             1.133763               1.0   Low - Medium (1-2)   \n",
       "4             1.133763               1.0   Low - Medium (1-2)   \n",
       "\n",
       "   w_awr_tex_rrr_weight_fraction  w_awr_tex_tot_raw w_awr_tex_tot_score  \\\n",
       "0                       0.326531           2.457171            3.614603   \n",
       "1                       0.326531           2.457171            3.614603   \n",
       "2                       0.326531           2.457171            3.614603   \n",
       "3                       0.163265           2.477321            3.649648   \n",
       "4                       0.163265           2.477321            3.649648   \n",
       "\n",
       "   w_awr_tex_tot_cat  w_awr_tex_tot_label  w_awr_tex_tot_weight_fraction  \n",
       "0                3.0           High (3-4)                       0.877551  \n",
       "1                3.0           High (3-4)                       0.877551  \n",
       "2                3.0           High (3-4)                       0.877551  \n",
       "3                3.0           High (3-4)                       0.551020  \n",
       "4                3.0           High (3-4)                       0.551020  \n",
       "\n",
       "[5 rows x 260 columns]"
      ]
     },
     "execution_count": 22,
     "metadata": {},
     "output_type": "execute_result"
    }
   ],
   "source": [
    "path_aq = './data/Y2019M07D12_Aqueduct30_V01/baseline/annual/csv/y2019m07d11_aqueduct30_annual_v01.csv'\n",
    "\n",
    "aq = pd.read_csv(path_aq)\n",
    "aq.head()"
   ]
  },
  {
   "cell_type": "markdown",
   "metadata": {},
   "source": [
    "European Commission's Global Human Settlements Layer"
   ]
  },
  {
   "cell_type": "code",
   "execution_count": 4,
   "metadata": {},
   "outputs": [],
   "source": [
    "url_ghsl = 'http://cidportal.jrc.ec.europa.eu/ftp/jrc-opendata/GHSL/GHS_SMOD_POP_GLOBE_R2019A/GHS_SMOD_POP2015_GLOBE_R2019A_54009_1K/V1-0/GHS_SMOD_POP2015_GLOBE_R2019A_54009_1K_V1_0.zip'\n",
    "\n",
    "r = requests.get(url_ghsl) # download zipped directory\n",
    "z = zipfile.ZipFile(io.BytesIO(r.content)) # create zipfile object\n",
    "z.extractall(path='data') # unzip into data subdirectory"
   ]
  },
  {
   "cell_type": "markdown",
   "metadata": {},
   "source": [
    "NASA SEDAC Poverty Data. Exact datasets TBD."
   ]
  },
  {
   "cell_type": "code",
   "execution_count": 3,
   "metadata": {},
   "outputs": [
    {
     "ename": "NameError",
     "evalue": "name 'url_sedac' is not defined",
     "output_type": "error",
     "traceback": [
      "\u001b[0;31m---------------------------------------------------------------------------\u001b[0m",
      "\u001b[0;31mNameError\u001b[0m                                 Traceback (most recent call last)",
      "\u001b[0;32m<ipython-input-3-b752242709f6>\u001b[0m in \u001b[0;36m<module>\u001b[0;34m\u001b[0m\n\u001b[0;32m----> 1\u001b[0;31m \u001b[0murl_sedac\u001b[0m\u001b[0;34m\u001b[0m\u001b[0;34m\u001b[0m\u001b[0m\n\u001b[0m",
      "\u001b[0;31mNameError\u001b[0m: name 'url_sedac' is not defined"
     ]
    }
   ],
   "source": [
    "url_sedac = \n",
    "\n",
    "r = requests.get(url_sedac) # download zipped directory\n",
    "z = zipfile.ZipFile(io.BytesIO(r.content)) # create zipfile object\n",
    "z.extractall(path='data') # unzip into data subdirectory"
   ]
  },
  {
   "cell_type": "markdown",
   "metadata": {},
   "source": [
    "Version 4 DMSP-OLS Nighttime Lights Time Series"
   ]
  },
  {
   "cell_type": "code",
   "execution_count": null,
   "metadata": {},
   "outputs": [],
   "source": [
    "url_light = 'https://ngdc.noaa.gov/eog/data/web_data/v4avg_lights_x_pct/F182013.v4c.avg_lights_x_pct.tgz'\n",
    "\n",
    "r = requests.get(url_light) # download zipped directory\n",
    "z = zipfile.ZipFile(io.BytesIO(r.content)) # create zipfile object\n",
    "z.extractall(path='data') # unzip into data subdirectory"
   ]
  },
  {
   "cell_type": "markdown",
   "metadata": {},
   "source": [
    "## Join Data"
   ]
  },
  {
   "cell_type": "markdown",
   "metadata": {},
   "source": [
    "## Engineer Features"
   ]
  },
  {
   "cell_type": "code",
   "execution_count": null,
   "metadata": {},
   "outputs": [],
   "source": []
  }
 ],
 "metadata": {
  "kernelspec": {
   "display_name": "Python 3",
   "language": "python",
   "name": "python3"
  },
  "language_info": {
   "codemirror_mode": {
    "name": "ipython",
    "version": 3
   },
   "file_extension": ".py",
   "mimetype": "text/x-python",
   "name": "python",
   "nbconvert_exporter": "python",
   "pygments_lexer": "ipython3",
   "version": "3.7.5"
  }
 },
 "nbformat": 4,
 "nbformat_minor": 2
}
